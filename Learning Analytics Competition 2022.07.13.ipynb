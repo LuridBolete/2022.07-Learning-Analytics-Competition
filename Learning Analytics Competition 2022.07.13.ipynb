{
 "cells": [
  {
   "cell_type": "code",
   "execution_count": 1,
   "id": "b762a443",
   "metadata": {},
   "outputs": [],
   "source": [
    "import pandas as pd\n",
    "import numpy as np\n",
    "\n",
    "import matplotlib.pyplot as plt\n",
    "\n",
    "from sklearn.model_selection import train_test_split\n",
    "\n",
    "from sklearn.tree import DecisionTreeClassifier\n",
    "from sklearn import tree\n",
    "\n",
    "from sklearn.metrics import confusion_matrix\n",
    "from sklearn.metrics import f1_score, accuracy_score, precision_score, recall_score"
   ]
  },
  {
   "cell_type": "code",
   "execution_count": 2,
   "id": "a474fd3b",
   "metadata": {},
   "outputs": [],
   "source": [
    "train = pd.read_csv('train.csv')\n",
    "test = pd.read_csv('test.csv')\n",
    "comp_marks = pd.read_csv('comp_marks.csv')\n",
    "comp_portrait = pd.read_csv('comp_portrait.csv')\n",
    "comp_students = pd.read_csv('comp_students.csv')"
   ]
  },
  {
   "cell_type": "markdown",
   "id": "fcdc5176",
   "metadata": {},
   "source": [
    "# 1. Подбор параметров из comp_marks.csv"
   ]
  },
  {
   "cell_type": "code",
   "execution_count": 3,
   "id": "f69f3771",
   "metadata": {},
   "outputs": [
    {
     "data": {
      "text/html": [
       "<div>\n",
       "<style scoped>\n",
       "    .dataframe tbody tr th:only-of-type {\n",
       "        vertical-align: middle;\n",
       "    }\n",
       "\n",
       "    .dataframe tbody tr th {\n",
       "        vertical-align: top;\n",
       "    }\n",
       "\n",
       "    .dataframe thead th {\n",
       "        text-align: right;\n",
       "    }\n",
       "</style>\n",
       "<table border=\"1\" class=\"dataframe\">\n",
       "  <thead>\n",
       "    <tr style=\"text-align: right;\">\n",
       "      <th></th>\n",
       "      <th>ISU</th>\n",
       "      <th>ST_YEAR</th>\n",
       "      <th>SEMESTER</th>\n",
       "      <th>TYPE_NAME</th>\n",
       "      <th>MARK</th>\n",
       "      <th>MAIN_PLAN</th>\n",
       "      <th>DISC_ID</th>\n",
       "      <th>PRED_ID</th>\n",
       "    </tr>\n",
       "  </thead>\n",
       "  <tbody>\n",
       "    <tr>\n",
       "      <th>0</th>\n",
       "      <td>17623928044460629977</td>\n",
       "      <td>2020</td>\n",
       "      <td>1</td>\n",
       "      <td>Зачет</td>\n",
       "      <td>зачет</td>\n",
       "      <td>4664712865904477750</td>\n",
       "      <td>10502311854018326223</td>\n",
       "      <td>5087927234000983963</td>\n",
       "    </tr>\n",
       "    <tr>\n",
       "      <th>1</th>\n",
       "      <td>17623928044460629977</td>\n",
       "      <td>2020</td>\n",
       "      <td>1</td>\n",
       "      <td>Зачет</td>\n",
       "      <td>зачет</td>\n",
       "      <td>4664712865904477750</td>\n",
       "      <td>1601392918367593206</td>\n",
       "      <td>5087927234000983963</td>\n",
       "    </tr>\n",
       "    <tr>\n",
       "      <th>2</th>\n",
       "      <td>17623928044460629977</td>\n",
       "      <td>2020</td>\n",
       "      <td>1</td>\n",
       "      <td>Зачет</td>\n",
       "      <td>зачет</td>\n",
       "      <td>4664712865904477750</td>\n",
       "      <td>9559803959325174929</td>\n",
       "      <td>5087927234000983963</td>\n",
       "    </tr>\n",
       "    <tr>\n",
       "      <th>3</th>\n",
       "      <td>17623928044460629977</td>\n",
       "      <td>2020</td>\n",
       "      <td>1</td>\n",
       "      <td>Зачет</td>\n",
       "      <td>зачет</td>\n",
       "      <td>4664712865904477750</td>\n",
       "      <td>8955667882044263414</td>\n",
       "      <td>5087927234000983963</td>\n",
       "    </tr>\n",
       "    <tr>\n",
       "      <th>4</th>\n",
       "      <td>17623928044460629977</td>\n",
       "      <td>2020</td>\n",
       "      <td>1</td>\n",
       "      <td>Экзамен</td>\n",
       "      <td>3</td>\n",
       "      <td>4664712865904477750</td>\n",
       "      <td>17741967398854095262</td>\n",
       "      <td>5087927234000983963</td>\n",
       "    </tr>\n",
       "  </tbody>\n",
       "</table>\n",
       "</div>"
      ],
      "text/plain": [
       "                    ISU  ST_YEAR  SEMESTER TYPE_NAME   MARK  \\\n",
       "0  17623928044460629977     2020         1     Зачет  зачет   \n",
       "1  17623928044460629977     2020         1     Зачет  зачет   \n",
       "2  17623928044460629977     2020         1     Зачет  зачет   \n",
       "3  17623928044460629977     2020         1     Зачет  зачет   \n",
       "4  17623928044460629977     2020         1   Экзамен      3   \n",
       "\n",
       "             MAIN_PLAN               DISC_ID              PRED_ID  \n",
       "0  4664712865904477750  10502311854018326223  5087927234000983963  \n",
       "1  4664712865904477750   1601392918367593206  5087927234000983963  \n",
       "2  4664712865904477750   9559803959325174929  5087927234000983963  \n",
       "3  4664712865904477750   8955667882044263414  5087927234000983963  \n",
       "4  4664712865904477750  17741967398854095262  5087927234000983963  "
      ]
     },
     "execution_count": 3,
     "metadata": {},
     "output_type": "execute_result"
    }
   ],
   "source": [
    "comp_marks.head()"
   ]
  },
  {
   "cell_type": "code",
   "execution_count": 4,
   "id": "38425e81",
   "metadata": {},
   "outputs": [
    {
     "data": {
      "text/plain": [
       "array(['зачет', '3', '4', 'незач', '5', '2', 'осв', nan, 'неявка'],\n",
       "      dtype=object)"
      ]
     },
     "execution_count": 4,
     "metadata": {},
     "output_type": "execute_result"
    }
   ],
   "source": [
    "comp_marks['MARK'].unique()"
   ]
  },
  {
   "cell_type": "code",
   "execution_count": 5,
   "id": "8e4c2d47",
   "metadata": {},
   "outputs": [],
   "source": [
    "comp_marks_2 = comp_marks\n",
    "\n",
    "comp_marks_2['MARK'] = np.where(comp_marks_2.MARK == '5', int(5), comp_marks_2.MARK)\n",
    "comp_marks_2['MARK'] = np.where(comp_marks_2.MARK == '4', int(4), comp_marks_2.MARK)\n",
    "comp_marks_2['MARK'] = np.where(comp_marks_2.MARK == '3', int(3), comp_marks_2.MARK)\n",
    "comp_marks_2['MARK'] = np.where(comp_marks_2.MARK == '2', int(2), comp_marks_2.MARK)\n",
    "\n",
    "comp_marks_2['MARK'] = np.where(comp_marks_2.MARK == 'зачет', int(5), comp_marks_2.MARK)\n",
    "comp_marks_2['MARK'] = np.where(comp_marks_2.MARK == 'осв', int(5), comp_marks_2.MARK)\n",
    "comp_marks_2['MARK'] = np.where(comp_marks_2.MARK == 'незач', int(2), comp_marks_2.MARK)\n",
    "comp_marks_2['MARK'] = np.where(comp_marks_2.MARK == 'неявка', int(2), comp_marks_2.MARK)\n",
    "\n",
    "comp_marks_2['MARK'] = comp_marks['MARK'].fillna(comp_marks['MARK'].median())"
   ]
  },
  {
   "cell_type": "code",
   "execution_count": 6,
   "id": "0ef6251a",
   "metadata": {},
   "outputs": [
    {
     "data": {
      "text/plain": [
       "array([5., 3., 4., 2.])"
      ]
     },
     "execution_count": 6,
     "metadata": {},
     "output_type": "execute_result"
    }
   ],
   "source": [
    "comp_marks_2['MARK'].unique()"
   ]
  },
  {
   "cell_type": "code",
   "execution_count": 7,
   "id": "9ee18654",
   "metadata": {},
   "outputs": [
    {
     "data": {
      "text/html": [
       "<div>\n",
       "<style scoped>\n",
       "    .dataframe tbody tr th:only-of-type {\n",
       "        vertical-align: middle;\n",
       "    }\n",
       "\n",
       "    .dataframe tbody tr th {\n",
       "        vertical-align: top;\n",
       "    }\n",
       "\n",
       "    .dataframe thead th {\n",
       "        text-align: right;\n",
       "    }\n",
       "</style>\n",
       "<table border=\"1\" class=\"dataframe\">\n",
       "  <thead>\n",
       "    <tr style=\"text-align: right;\">\n",
       "      <th></th>\n",
       "      <th>AVG_MARK</th>\n",
       "    </tr>\n",
       "    <tr>\n",
       "      <th>ISU</th>\n",
       "      <th></th>\n",
       "    </tr>\n",
       "  </thead>\n",
       "  <tbody>\n",
       "    <tr>\n",
       "      <th>999504425170639</th>\n",
       "      <td>4.698413</td>\n",
       "    </tr>\n",
       "    <tr>\n",
       "      <th>16243099018784918</th>\n",
       "      <td>4.035088</td>\n",
       "    </tr>\n",
       "    <tr>\n",
       "      <th>22160896830459167</th>\n",
       "      <td>4.650000</td>\n",
       "    </tr>\n",
       "    <tr>\n",
       "      <th>23604312120912668</th>\n",
       "      <td>3.117647</td>\n",
       "    </tr>\n",
       "    <tr>\n",
       "      <th>33612688142435218</th>\n",
       "      <td>4.655738</td>\n",
       "    </tr>\n",
       "  </tbody>\n",
       "</table>\n",
       "</div>"
      ],
      "text/plain": [
       "                   AVG_MARK\n",
       "ISU                        \n",
       "999504425170639    4.698413\n",
       "16243099018784918  4.035088\n",
       "22160896830459167  4.650000\n",
       "23604312120912668  3.117647\n",
       "33612688142435218  4.655738"
      ]
     },
     "execution_count": 7,
     "metadata": {},
     "output_type": "execute_result"
    }
   ],
   "source": [
    "avg_mark = comp_marks_2.pivot_table(index = 'ISU', values = ['MARK'])\n",
    "avg_mark = avg_mark.rename (columns= {'MARK': 'AVG_MARK'})\n",
    "\n",
    "avg_mark.head()"
   ]
  },
  {
   "cell_type": "code",
   "execution_count": 8,
   "id": "1a600de9",
   "metadata": {},
   "outputs": [
    {
     "data": {
      "text/html": [
       "<div>\n",
       "<style scoped>\n",
       "    .dataframe tbody tr th:only-of-type {\n",
       "        vertical-align: middle;\n",
       "    }\n",
       "\n",
       "    .dataframe tbody tr th {\n",
       "        vertical-align: top;\n",
       "    }\n",
       "\n",
       "    .dataframe thead th {\n",
       "        text-align: right;\n",
       "    }\n",
       "</style>\n",
       "<table border=\"1\" class=\"dataframe\">\n",
       "  <thead>\n",
       "    <tr style=\"text-align: right;\">\n",
       "      <th></th>\n",
       "      <th>AVG_MARK_DISC</th>\n",
       "    </tr>\n",
       "    <tr>\n",
       "      <th>DISC_ID</th>\n",
       "      <th></th>\n",
       "    </tr>\n",
       "  </thead>\n",
       "  <tbody>\n",
       "    <tr>\n",
       "      <th>10928733136090636</th>\n",
       "      <td>5.000000</td>\n",
       "    </tr>\n",
       "    <tr>\n",
       "      <th>57659945070201404</th>\n",
       "      <td>4.000000</td>\n",
       "    </tr>\n",
       "    <tr>\n",
       "      <th>81203412138540191</th>\n",
       "      <td>3.814815</td>\n",
       "    </tr>\n",
       "    <tr>\n",
       "      <th>119954623639665579</th>\n",
       "      <td>4.467005</td>\n",
       "    </tr>\n",
       "    <tr>\n",
       "      <th>150957394596913708</th>\n",
       "      <td>4.857143</td>\n",
       "    </tr>\n",
       "  </tbody>\n",
       "</table>\n",
       "</div>"
      ],
      "text/plain": [
       "                    AVG_MARK_DISC\n",
       "DISC_ID                          \n",
       "10928733136090636        5.000000\n",
       "57659945070201404        4.000000\n",
       "81203412138540191        3.814815\n",
       "119954623639665579       4.467005\n",
       "150957394596913708       4.857143"
      ]
     },
     "execution_count": 8,
     "metadata": {},
     "output_type": "execute_result"
    }
   ],
   "source": [
    "avg_mark_disc = comp_marks_2.pivot_table(index = 'DISC_ID', values = ['MARK'])\n",
    "avg_mark_disc = avg_mark_disc.rename (columns= {'MARK': 'AVG_MARK_DISC'})\n",
    "\n",
    "avg_mark_disc.head()"
   ]
  },
  {
   "cell_type": "markdown",
   "id": "e0b1941c",
   "metadata": {},
   "source": [
    "# 2. Подбор параметров из comp_portrait.csv"
   ]
  },
  {
   "cell_type": "code",
   "execution_count": 9,
   "id": "47a3cb63",
   "metadata": {},
   "outputs": [
    {
     "data": {
      "text/html": [
       "<div>\n",
       "<style scoped>\n",
       "    .dataframe tbody tr th:only-of-type {\n",
       "        vertical-align: middle;\n",
       "    }\n",
       "\n",
       "    .dataframe tbody tr th {\n",
       "        vertical-align: top;\n",
       "    }\n",
       "\n",
       "    .dataframe thead th {\n",
       "        text-align: right;\n",
       "    }\n",
       "</style>\n",
       "<table border=\"1\" class=\"dataframe\">\n",
       "  <thead>\n",
       "    <tr style=\"text-align: right;\">\n",
       "      <th></th>\n",
       "      <th>ISU</th>\n",
       "      <th>GENDER</th>\n",
       "      <th>CITIZENSHIP</th>\n",
       "      <th>EXAM_TYPE</th>\n",
       "      <th>EXAM_SUBJECT_1</th>\n",
       "      <th>EXAM_SUBJECT_2</th>\n",
       "      <th>EXAM_SUBJECT_3</th>\n",
       "      <th>ADMITTED_EXAM_1</th>\n",
       "      <th>ADMITTED_EXAM_2</th>\n",
       "      <th>ADMITTED_EXAM_3</th>\n",
       "      <th>ADMITTED_SUBJECT_PRIZE_LEVEL</th>\n",
       "      <th>REGION_ID</th>\n",
       "    </tr>\n",
       "  </thead>\n",
       "  <tbody>\n",
       "    <tr>\n",
       "      <th>0</th>\n",
       "      <td>8746993777733478780</td>\n",
       "      <td>Ж</td>\n",
       "      <td>15601729049989747827</td>\n",
       "      <td>ЕГЭ</td>\n",
       "      <td>70786669040476600</td>\n",
       "      <td>5533732657842394915</td>\n",
       "      <td>8388269026169219461</td>\n",
       "      <td>88.0</td>\n",
       "      <td>91.0</td>\n",
       "      <td>81.0</td>\n",
       "      <td>ЕГЭ</td>\n",
       "      <td>4877310761925081124</td>\n",
       "    </tr>\n",
       "    <tr>\n",
       "      <th>1</th>\n",
       "      <td>18279003839105282485</td>\n",
       "      <td>М</td>\n",
       "      <td>15601729049989747827</td>\n",
       "      <td>ВИ</td>\n",
       "      <td>70786669040476600</td>\n",
       "      <td>5533732657842394915</td>\n",
       "      <td>8388269026169219461</td>\n",
       "      <td>84.0</td>\n",
       "      <td>89.0</td>\n",
       "      <td>96.0</td>\n",
       "      <td>ЕГЭ</td>\n",
       "      <td>4877310761925081124</td>\n",
       "    </tr>\n",
       "    <tr>\n",
       "      <th>2</th>\n",
       "      <td>17601399077733331421</td>\n",
       "      <td>М</td>\n",
       "      <td>15601729049989747827</td>\n",
       "      <td>ВИ</td>\n",
       "      <td>70786669040476600</td>\n",
       "      <td>5533732657842394915</td>\n",
       "      <td>8388269026169219461</td>\n",
       "      <td>66.0</td>\n",
       "      <td>78.0</td>\n",
       "      <td>93.0</td>\n",
       "      <td>ЕГЭ</td>\n",
       "      <td>4877310761925081124</td>\n",
       "    </tr>\n",
       "    <tr>\n",
       "      <th>3</th>\n",
       "      <td>4111128904589594590</td>\n",
       "      <td>М</td>\n",
       "      <td>15601729049989747827</td>\n",
       "      <td>ВИ</td>\n",
       "      <td>70786669040476600</td>\n",
       "      <td>5533732657842394915</td>\n",
       "      <td>8388269026169219461</td>\n",
       "      <td>100.0</td>\n",
       "      <td>89.0</td>\n",
       "      <td>80.0</td>\n",
       "      <td>ЕГЭ</td>\n",
       "      <td>4877310761925081124</td>\n",
       "    </tr>\n",
       "    <tr>\n",
       "      <th>4</th>\n",
       "      <td>5943608672516320930</td>\n",
       "      <td>М</td>\n",
       "      <td>15601729049989747827</td>\n",
       "      <td>ВИ</td>\n",
       "      <td>70786669040476600</td>\n",
       "      <td>5533732657842394915</td>\n",
       "      <td>8388269026169219461</td>\n",
       "      <td>84.0</td>\n",
       "      <td>86.0</td>\n",
       "      <td>91.0</td>\n",
       "      <td>ЕГЭ</td>\n",
       "      <td>4877310761925081124</td>\n",
       "    </tr>\n",
       "  </tbody>\n",
       "</table>\n",
       "</div>"
      ],
      "text/plain": [
       "                    ISU GENDER           CITIZENSHIP EXAM_TYPE  \\\n",
       "0   8746993777733478780      Ж  15601729049989747827       ЕГЭ   \n",
       "1  18279003839105282485      М  15601729049989747827        ВИ   \n",
       "2  17601399077733331421      М  15601729049989747827        ВИ   \n",
       "3   4111128904589594590      М  15601729049989747827        ВИ   \n",
       "4   5943608672516320930      М  15601729049989747827        ВИ   \n",
       "\n",
       "      EXAM_SUBJECT_1       EXAM_SUBJECT_2       EXAM_SUBJECT_3  \\\n",
       "0  70786669040476600  5533732657842394915  8388269026169219461   \n",
       "1  70786669040476600  5533732657842394915  8388269026169219461   \n",
       "2  70786669040476600  5533732657842394915  8388269026169219461   \n",
       "3  70786669040476600  5533732657842394915  8388269026169219461   \n",
       "4  70786669040476600  5533732657842394915  8388269026169219461   \n",
       "\n",
       "   ADMITTED_EXAM_1  ADMITTED_EXAM_2  ADMITTED_EXAM_3  \\\n",
       "0             88.0             91.0             81.0   \n",
       "1             84.0             89.0             96.0   \n",
       "2             66.0             78.0             93.0   \n",
       "3            100.0             89.0             80.0   \n",
       "4             84.0             86.0             91.0   \n",
       "\n",
       "  ADMITTED_SUBJECT_PRIZE_LEVEL            REGION_ID  \n",
       "0                          ЕГЭ  4877310761925081124  \n",
       "1                          ЕГЭ  4877310761925081124  \n",
       "2                          ЕГЭ  4877310761925081124  \n",
       "3                          ЕГЭ  4877310761925081124  \n",
       "4                          ЕГЭ  4877310761925081124  "
      ]
     },
     "execution_count": 9,
     "metadata": {},
     "output_type": "execute_result"
    }
   ],
   "source": [
    "comp_portrait.head()"
   ]
  },
  {
   "cell_type": "code",
   "execution_count": 10,
   "id": "f3df962a",
   "metadata": {},
   "outputs": [
    {
     "data": {
      "text/html": [
       "<div>\n",
       "<style scoped>\n",
       "    .dataframe tbody tr th:only-of-type {\n",
       "        vertical-align: middle;\n",
       "    }\n",
       "\n",
       "    .dataframe tbody tr th {\n",
       "        vertical-align: top;\n",
       "    }\n",
       "\n",
       "    .dataframe thead th {\n",
       "        text-align: right;\n",
       "    }\n",
       "</style>\n",
       "<table border=\"1\" class=\"dataframe\">\n",
       "  <thead>\n",
       "    <tr style=\"text-align: right;\">\n",
       "      <th></th>\n",
       "      <th>ISU</th>\n",
       "      <th>GENDER</th>\n",
       "      <th>EXAM_TYPE</th>\n",
       "    </tr>\n",
       "  </thead>\n",
       "  <tbody>\n",
       "    <tr>\n",
       "      <th>0</th>\n",
       "      <td>8746993777733478780</td>\n",
       "      <td>Ж</td>\n",
       "      <td>ЕГЭ</td>\n",
       "    </tr>\n",
       "    <tr>\n",
       "      <th>1</th>\n",
       "      <td>18279003839105282485</td>\n",
       "      <td>М</td>\n",
       "      <td>ВИ</td>\n",
       "    </tr>\n",
       "    <tr>\n",
       "      <th>2</th>\n",
       "      <td>17601399077733331421</td>\n",
       "      <td>М</td>\n",
       "      <td>ВИ</td>\n",
       "    </tr>\n",
       "    <tr>\n",
       "      <th>3</th>\n",
       "      <td>4111128904589594590</td>\n",
       "      <td>М</td>\n",
       "      <td>ВИ</td>\n",
       "    </tr>\n",
       "    <tr>\n",
       "      <th>4</th>\n",
       "      <td>5943608672516320930</td>\n",
       "      <td>М</td>\n",
       "      <td>ВИ</td>\n",
       "    </tr>\n",
       "  </tbody>\n",
       "</table>\n",
       "</div>"
      ],
      "text/plain": [
       "                    ISU GENDER EXAM_TYPE\n",
       "0   8746993777733478780      Ж       ЕГЭ\n",
       "1  18279003839105282485      М        ВИ\n",
       "2  17601399077733331421      М        ВИ\n",
       "3   4111128904589594590      М        ВИ\n",
       "4   5943608672516320930      М        ВИ"
      ]
     },
     "execution_count": 10,
     "metadata": {},
     "output_type": "execute_result"
    }
   ],
   "source": [
    "comp_portrait_2 = comp_portrait[['ISU', 'GENDER', 'EXAM_TYPE']]\n",
    "comp_portrait_2.head()"
   ]
  },
  {
   "cell_type": "markdown",
   "id": "1e526911",
   "metadata": {},
   "source": [
    "# 3. Подбор параметров из comp_students.csv"
   ]
  },
  {
   "cell_type": "code",
   "execution_count": 11,
   "id": "19228982",
   "metadata": {},
   "outputs": [
    {
     "data": {
      "text/html": [
       "<div>\n",
       "<style scoped>\n",
       "    .dataframe tbody tr th:only-of-type {\n",
       "        vertical-align: middle;\n",
       "    }\n",
       "\n",
       "    .dataframe tbody tr th {\n",
       "        vertical-align: top;\n",
       "    }\n",
       "\n",
       "    .dataframe thead th {\n",
       "        text-align: right;\n",
       "    }\n",
       "</style>\n",
       "<table border=\"1\" class=\"dataframe\">\n",
       "  <thead>\n",
       "    <tr style=\"text-align: right;\">\n",
       "      <th></th>\n",
       "      <th>ISU</th>\n",
       "      <th>KURS</th>\n",
       "      <th>DATE_START</th>\n",
       "      <th>DATE_END</th>\n",
       "      <th>PRIZNAK</th>\n",
       "      <th>MAIN_PLAN</th>\n",
       "    </tr>\n",
       "  </thead>\n",
       "  <tbody>\n",
       "    <tr>\n",
       "      <th>0</th>\n",
       "      <td>4111128904589594590</td>\n",
       "      <td>2</td>\n",
       "      <td>2017-09-01</td>\n",
       "      <td>2018-08-31 00:00:00</td>\n",
       "      <td>обучен</td>\n",
       "      <td>1888061104212561891</td>\n",
       "    </tr>\n",
       "    <tr>\n",
       "      <th>1</th>\n",
       "      <td>4111128904589594590</td>\n",
       "      <td>3</td>\n",
       "      <td>2018-09-01</td>\n",
       "      <td>2018-11-02 00:00:00</td>\n",
       "      <td>обучен</td>\n",
       "      <td>1888061104212561891</td>\n",
       "    </tr>\n",
       "    <tr>\n",
       "      <th>2</th>\n",
       "      <td>4111128904589594590</td>\n",
       "      <td>3</td>\n",
       "      <td>2018-11-03</td>\n",
       "      <td>2019-08-31 00:00:00</td>\n",
       "      <td>обучен</td>\n",
       "      <td>1888061104212561891</td>\n",
       "    </tr>\n",
       "    <tr>\n",
       "      <th>3</th>\n",
       "      <td>4111128904589594590</td>\n",
       "      <td>4</td>\n",
       "      <td>2019-09-01</td>\n",
       "      <td>2020-07-06 00:00:00</td>\n",
       "      <td>обучен</td>\n",
       "      <td>1888061104212561891</td>\n",
       "    </tr>\n",
       "    <tr>\n",
       "      <th>4</th>\n",
       "      <td>5943608672516320930</td>\n",
       "      <td>2</td>\n",
       "      <td>2017-09-01</td>\n",
       "      <td>2018-08-31 00:00:00</td>\n",
       "      <td>обучен</td>\n",
       "      <td>2318124975100570268</td>\n",
       "    </tr>\n",
       "  </tbody>\n",
       "</table>\n",
       "</div>"
      ],
      "text/plain": [
       "                   ISU  KURS  DATE_START             DATE_END PRIZNAK  \\\n",
       "0  4111128904589594590     2  2017-09-01  2018-08-31 00:00:00  обучен   \n",
       "1  4111128904589594590     3  2018-09-01  2018-11-02 00:00:00  обучен   \n",
       "2  4111128904589594590     3  2018-11-03  2019-08-31 00:00:00  обучен   \n",
       "3  4111128904589594590     4  2019-09-01  2020-07-06 00:00:00  обучен   \n",
       "4  5943608672516320930     2  2017-09-01  2018-08-31 00:00:00  обучен   \n",
       "\n",
       "             MAIN_PLAN  \n",
       "0  1888061104212561891  \n",
       "1  1888061104212561891  \n",
       "2  1888061104212561891  \n",
       "3  1888061104212561891  \n",
       "4  2318124975100570268  "
      ]
     },
     "execution_count": 11,
     "metadata": {},
     "output_type": "execute_result"
    }
   ],
   "source": [
    "comp_students.head()"
   ]
  },
  {
   "cell_type": "code",
   "execution_count": 12,
   "id": "665fe78a",
   "metadata": {},
   "outputs": [
    {
     "data": {
      "text/plain": [
       "array(['обучен', 'отчисл', 'академ', nan], dtype=object)"
      ]
     },
     "execution_count": 12,
     "metadata": {},
     "output_type": "execute_result"
    }
   ],
   "source": [
    "comp_students['PRIZNAK'].unique()"
   ]
  },
  {
   "cell_type": "code",
   "execution_count": 13,
   "id": "762d9e7f",
   "metadata": {},
   "outputs": [
    {
     "data": {
      "text/html": [
       "<div>\n",
       "<style scoped>\n",
       "    .dataframe tbody tr th:only-of-type {\n",
       "        vertical-align: middle;\n",
       "    }\n",
       "\n",
       "    .dataframe tbody tr th {\n",
       "        vertical-align: top;\n",
       "    }\n",
       "\n",
       "    .dataframe thead th {\n",
       "        text-align: right;\n",
       "    }\n",
       "</style>\n",
       "<table border=\"1\" class=\"dataframe\">\n",
       "  <thead>\n",
       "    <tr style=\"text-align: right;\">\n",
       "      <th></th>\n",
       "      <th>ISU</th>\n",
       "      <th>KURS</th>\n",
       "      <th>DATE_START</th>\n",
       "      <th>DATE_END</th>\n",
       "      <th>PRIZNAK</th>\n",
       "      <th>MAIN_PLAN</th>\n",
       "    </tr>\n",
       "  </thead>\n",
       "  <tbody>\n",
       "    <tr>\n",
       "      <th>0</th>\n",
       "      <td>4111128904589594590</td>\n",
       "      <td>2</td>\n",
       "      <td>2017-09-01</td>\n",
       "      <td>2018-08-31 00:00:00</td>\n",
       "      <td>1</td>\n",
       "      <td>1888061104212561891</td>\n",
       "    </tr>\n",
       "    <tr>\n",
       "      <th>1</th>\n",
       "      <td>4111128904589594590</td>\n",
       "      <td>3</td>\n",
       "      <td>2018-09-01</td>\n",
       "      <td>2018-11-02 00:00:00</td>\n",
       "      <td>1</td>\n",
       "      <td>1888061104212561891</td>\n",
       "    </tr>\n",
       "    <tr>\n",
       "      <th>2</th>\n",
       "      <td>4111128904589594590</td>\n",
       "      <td>3</td>\n",
       "      <td>2018-11-03</td>\n",
       "      <td>2019-08-31 00:00:00</td>\n",
       "      <td>1</td>\n",
       "      <td>1888061104212561891</td>\n",
       "    </tr>\n",
       "    <tr>\n",
       "      <th>3</th>\n",
       "      <td>4111128904589594590</td>\n",
       "      <td>4</td>\n",
       "      <td>2019-09-01</td>\n",
       "      <td>2020-07-06 00:00:00</td>\n",
       "      <td>1</td>\n",
       "      <td>1888061104212561891</td>\n",
       "    </tr>\n",
       "    <tr>\n",
       "      <th>4</th>\n",
       "      <td>5943608672516320930</td>\n",
       "      <td>2</td>\n",
       "      <td>2017-09-01</td>\n",
       "      <td>2018-08-31 00:00:00</td>\n",
       "      <td>1</td>\n",
       "      <td>2318124975100570268</td>\n",
       "    </tr>\n",
       "  </tbody>\n",
       "</table>\n",
       "</div>"
      ],
      "text/plain": [
       "                   ISU  KURS  DATE_START             DATE_END PRIZNAK  \\\n",
       "0  4111128904589594590     2  2017-09-01  2018-08-31 00:00:00       1   \n",
       "1  4111128904589594590     3  2018-09-01  2018-11-02 00:00:00       1   \n",
       "2  4111128904589594590     3  2018-11-03  2019-08-31 00:00:00       1   \n",
       "3  4111128904589594590     4  2019-09-01  2020-07-06 00:00:00       1   \n",
       "4  5943608672516320930     2  2017-09-01  2018-08-31 00:00:00       1   \n",
       "\n",
       "             MAIN_PLAN  \n",
       "0  1888061104212561891  \n",
       "1  1888061104212561891  \n",
       "2  1888061104212561891  \n",
       "3  1888061104212561891  \n",
       "4  2318124975100570268  "
      ]
     },
     "execution_count": 13,
     "metadata": {},
     "output_type": "execute_result"
    }
   ],
   "source": [
    "comp_students_2 = comp_students\n",
    "\n",
    "comp_students_2['PRIZNAK'] = np.where(comp_students_2.PRIZNAK == 'обучен', int(1), comp_students_2.PRIZNAK)\n",
    "comp_students_2['PRIZNAK'] = np.where(comp_students_2.PRIZNAK == 'отчисл', int(0), comp_students_2.PRIZNAK)\n",
    "comp_students_2['PRIZNAK'] = np.where(comp_students_2.PRIZNAK == 'академ', int(0), comp_students_2.PRIZNAK)\n",
    "\n",
    "comp_students_2.head()"
   ]
  },
  {
   "cell_type": "code",
   "execution_count": 14,
   "id": "69071a2a",
   "metadata": {},
   "outputs": [
    {
     "data": {
      "text/html": [
       "<div>\n",
       "<style scoped>\n",
       "    .dataframe tbody tr th:only-of-type {\n",
       "        vertical-align: middle;\n",
       "    }\n",
       "\n",
       "    .dataframe tbody tr th {\n",
       "        vertical-align: top;\n",
       "    }\n",
       "\n",
       "    .dataframe thead th {\n",
       "        text-align: right;\n",
       "    }\n",
       "</style>\n",
       "<table border=\"1\" class=\"dataframe\">\n",
       "  <thead>\n",
       "    <tr style=\"text-align: right;\">\n",
       "      <th></th>\n",
       "      <th>PRIZNAK</th>\n",
       "    </tr>\n",
       "    <tr>\n",
       "      <th>ISU</th>\n",
       "      <th></th>\n",
       "    </tr>\n",
       "  </thead>\n",
       "  <tbody>\n",
       "    <tr>\n",
       "      <th>999504425170639</th>\n",
       "      <td>1.00</td>\n",
       "    </tr>\n",
       "    <tr>\n",
       "      <th>7048242597236404</th>\n",
       "      <td>1.00</td>\n",
       "    </tr>\n",
       "    <tr>\n",
       "      <th>13739999946233224</th>\n",
       "      <td>1.00</td>\n",
       "    </tr>\n",
       "    <tr>\n",
       "      <th>16243099018784918</th>\n",
       "      <td>0.75</td>\n",
       "    </tr>\n",
       "    <tr>\n",
       "      <th>22160896830459167</th>\n",
       "      <td>1.00</td>\n",
       "    </tr>\n",
       "  </tbody>\n",
       "</table>\n",
       "</div>"
      ],
      "text/plain": [
       "                   PRIZNAK\n",
       "ISU                       \n",
       "999504425170639       1.00\n",
       "7048242597236404      1.00\n",
       "13739999946233224     1.00\n",
       "16243099018784918     0.75\n",
       "22160896830459167     1.00"
      ]
     },
     "execution_count": 14,
     "metadata": {},
     "output_type": "execute_result"
    }
   ],
   "source": [
    "priznak = comp_students_2.pivot_table(index = 'ISU', values = ['PRIZNAK'])\n",
    "\n",
    "priznak.head()"
   ]
  },
  {
   "cell_type": "code",
   "execution_count": 15,
   "id": "e5706b3f",
   "metadata": {},
   "outputs": [
    {
     "data": {
      "text/html": [
       "<div>\n",
       "<style scoped>\n",
       "    .dataframe tbody tr th:only-of-type {\n",
       "        vertical-align: middle;\n",
       "    }\n",
       "\n",
       "    .dataframe tbody tr th {\n",
       "        vertical-align: top;\n",
       "    }\n",
       "\n",
       "    .dataframe thead th {\n",
       "        text-align: right;\n",
       "    }\n",
       "</style>\n",
       "<table border=\"1\" class=\"dataframe\">\n",
       "  <thead>\n",
       "    <tr style=\"text-align: right;\">\n",
       "      <th></th>\n",
       "      <th>PRIZNAK_KURS</th>\n",
       "    </tr>\n",
       "    <tr>\n",
       "      <th>KURS</th>\n",
       "      <th></th>\n",
       "    </tr>\n",
       "  </thead>\n",
       "  <tbody>\n",
       "    <tr>\n",
       "      <th>1</th>\n",
       "      <td>0.945161</td>\n",
       "    </tr>\n",
       "    <tr>\n",
       "      <th>2</th>\n",
       "      <td>0.937471</td>\n",
       "    </tr>\n",
       "    <tr>\n",
       "      <th>3</th>\n",
       "      <td>0.941021</td>\n",
       "    </tr>\n",
       "    <tr>\n",
       "      <th>4</th>\n",
       "      <td>0.865606</td>\n",
       "    </tr>\n",
       "  </tbody>\n",
       "</table>\n",
       "</div>"
      ],
      "text/plain": [
       "      PRIZNAK_KURS\n",
       "KURS              \n",
       "1         0.945161\n",
       "2         0.937471\n",
       "3         0.941021\n",
       "4         0.865606"
      ]
     },
     "execution_count": 15,
     "metadata": {},
     "output_type": "execute_result"
    }
   ],
   "source": [
    "priznak_kurs = comp_students_2.pivot_table(index = 'KURS', values = ['PRIZNAK'])\n",
    "priznak_kurs = priznak_kurs.rename (columns= {'PRIZNAK': 'PRIZNAK_KURS'})\n",
    "\n",
    "priznak_kurs.head()"
   ]
  },
  {
   "cell_type": "markdown",
   "id": "9a457e9d",
   "metadata": {},
   "source": [
    "# 4. Подбор параметров из train.csv и test.csv"
   ]
  },
  {
   "cell_type": "code",
   "execution_count": 16,
   "id": "5c22a93c",
   "metadata": {},
   "outputs": [],
   "source": [
    "data_train = train\n",
    "data_test = test"
   ]
  },
  {
   "cell_type": "code",
   "execution_count": 17,
   "id": "faaa4335",
   "metadata": {},
   "outputs": [],
   "source": [
    "all_st_df = []\n",
    "\n",
    "for st_year in data_train['ST_YEAR'].unique():\n",
    "    for semester in data_train['SEMESTER'].unique():\n",
    "        data_temp = (\n",
    "            data_train\n",
    "            .drop('DISC_ID', axis=1)\n",
    "            [(data_train['ST_YEAR'] < st_year) & (data_train['SEMESTER'] < semester)]\n",
    "            .groupby(['ISU', 'TYPE_NAME'], as_index=False)\n",
    "            .agg(DEBT_MEAN=('DEBT', 'mean')\n",
    "            )\n",
    "        )\n",
    "        data_temp['ST_YEAR'] = st_year\n",
    "        data_temp['SEMESTER'] = semester\n",
    "        \n",
    "        all_st_df.append(data_temp)"
   ]
  },
  {
   "cell_type": "code",
   "execution_count": 18,
   "id": "b1f4680b",
   "metadata": {},
   "outputs": [
    {
     "data": {
      "text/html": [
       "<div>\n",
       "<style scoped>\n",
       "    .dataframe tbody tr th:only-of-type {\n",
       "        vertical-align: middle;\n",
       "    }\n",
       "\n",
       "    .dataframe tbody tr th {\n",
       "        vertical-align: top;\n",
       "    }\n",
       "\n",
       "    .dataframe thead th {\n",
       "        text-align: right;\n",
       "    }\n",
       "</style>\n",
       "<table border=\"1\" class=\"dataframe\">\n",
       "  <thead>\n",
       "    <tr style=\"text-align: right;\">\n",
       "      <th></th>\n",
       "      <th>ISU</th>\n",
       "      <th>TYPE_NAME</th>\n",
       "      <th>DEBT_MEAN</th>\n",
       "      <th>ST_YEAR</th>\n",
       "      <th>SEMESTER</th>\n",
       "    </tr>\n",
       "  </thead>\n",
       "  <tbody>\n",
       "    <tr>\n",
       "      <th>0</th>\n",
       "      <td>999504425170639</td>\n",
       "      <td>Зачет</td>\n",
       "      <td>0.0</td>\n",
       "      <td>2020</td>\n",
       "      <td>2</td>\n",
       "    </tr>\n",
       "    <tr>\n",
       "      <th>1</th>\n",
       "      <td>999504425170639</td>\n",
       "      <td>Курсовой проект</td>\n",
       "      <td>0.0</td>\n",
       "      <td>2020</td>\n",
       "      <td>2</td>\n",
       "    </tr>\n",
       "    <tr>\n",
       "      <th>2</th>\n",
       "      <td>999504425170639</td>\n",
       "      <td>Экзамен</td>\n",
       "      <td>0.0</td>\n",
       "      <td>2020</td>\n",
       "      <td>2</td>\n",
       "    </tr>\n",
       "    <tr>\n",
       "      <th>3</th>\n",
       "      <td>16243099018784918</td>\n",
       "      <td>Зачет</td>\n",
       "      <td>0.0</td>\n",
       "      <td>2020</td>\n",
       "      <td>2</td>\n",
       "    </tr>\n",
       "    <tr>\n",
       "      <th>4</th>\n",
       "      <td>16243099018784918</td>\n",
       "      <td>Курсовой проект</td>\n",
       "      <td>0.0</td>\n",
       "      <td>2020</td>\n",
       "      <td>2</td>\n",
       "    </tr>\n",
       "  </tbody>\n",
       "</table>\n",
       "</div>"
      ],
      "text/plain": [
       "                 ISU        TYPE_NAME  DEBT_MEAN  ST_YEAR  SEMESTER\n",
       "0    999504425170639            Зачет        0.0     2020         2\n",
       "1    999504425170639  Курсовой проект        0.0     2020         2\n",
       "2    999504425170639          Экзамен        0.0     2020         2\n",
       "3  16243099018784918            Зачет        0.0     2020         2\n",
       "4  16243099018784918  Курсовой проект        0.0     2020         2"
      ]
     },
     "execution_count": 18,
     "metadata": {},
     "output_type": "execute_result"
    }
   ],
   "source": [
    "all_st_df = pd.concat(all_st_df)\n",
    "all_st_df.head()"
   ]
  },
  {
   "cell_type": "code",
   "execution_count": 19,
   "id": "8b87ac59",
   "metadata": {},
   "outputs": [],
   "source": [
    "all_disc_df = []\n",
    "\n",
    "for st_year in data_train['ST_YEAR'].unique():\n",
    "    for semester in data_train['SEMESTER'].unique():\n",
    "        data_temp = (\n",
    "            data_train\n",
    "            .drop('ISU', axis=1)\n",
    "            [(data_train['ST_YEAR'] < st_year) & (data_train['SEMESTER'] < semester)]\n",
    "            .groupby(['DISC_ID', 'TYPE_NAME'], as_index=False)\n",
    "            .agg(DISC_DEBT_MEAN=('DEBT', 'mean')\n",
    "            )\n",
    "        )\n",
    "        data_temp['ST_YEAR'] = st_year\n",
    "        data_temp['SEMESTER'] = semester\n",
    "        \n",
    "        all_disc_df.append(data_temp)"
   ]
  },
  {
   "cell_type": "code",
   "execution_count": 20,
   "id": "646b81b1",
   "metadata": {},
   "outputs": [
    {
     "data": {
      "text/html": [
       "<div>\n",
       "<style scoped>\n",
       "    .dataframe tbody tr th:only-of-type {\n",
       "        vertical-align: middle;\n",
       "    }\n",
       "\n",
       "    .dataframe tbody tr th {\n",
       "        vertical-align: top;\n",
       "    }\n",
       "\n",
       "    .dataframe thead th {\n",
       "        text-align: right;\n",
       "    }\n",
       "</style>\n",
       "<table border=\"1\" class=\"dataframe\">\n",
       "  <thead>\n",
       "    <tr style=\"text-align: right;\">\n",
       "      <th></th>\n",
       "      <th>DISC_ID</th>\n",
       "      <th>TYPE_NAME</th>\n",
       "      <th>DISC_DEBT_MEAN</th>\n",
       "      <th>ST_YEAR</th>\n",
       "      <th>SEMESTER</th>\n",
       "    </tr>\n",
       "  </thead>\n",
       "  <tbody>\n",
       "    <tr>\n",
       "      <th>0</th>\n",
       "      <td>414360622201993003</td>\n",
       "      <td>Экзамен</td>\n",
       "      <td>0.023622</td>\n",
       "      <td>2020</td>\n",
       "      <td>2</td>\n",
       "    </tr>\n",
       "    <tr>\n",
       "      <th>1</th>\n",
       "      <td>552619236026332123</td>\n",
       "      <td>Экзамен</td>\n",
       "      <td>0.076129</td>\n",
       "      <td>2020</td>\n",
       "      <td>2</td>\n",
       "    </tr>\n",
       "    <tr>\n",
       "      <th>2</th>\n",
       "      <td>626617645851559829</td>\n",
       "      <td>Экзамен</td>\n",
       "      <td>0.053191</td>\n",
       "      <td>2020</td>\n",
       "      <td>2</td>\n",
       "    </tr>\n",
       "    <tr>\n",
       "      <th>3</th>\n",
       "      <td>695931230947311728</td>\n",
       "      <td>Экзамен</td>\n",
       "      <td>0.053279</td>\n",
       "      <td>2020</td>\n",
       "      <td>2</td>\n",
       "    </tr>\n",
       "    <tr>\n",
       "      <th>4</th>\n",
       "      <td>707224039586067120</td>\n",
       "      <td>Экзамен</td>\n",
       "      <td>0.025000</td>\n",
       "      <td>2020</td>\n",
       "      <td>2</td>\n",
       "    </tr>\n",
       "  </tbody>\n",
       "</table>\n",
       "</div>"
      ],
      "text/plain": [
       "              DISC_ID TYPE_NAME  DISC_DEBT_MEAN  ST_YEAR  SEMESTER\n",
       "0  414360622201993003   Экзамен        0.023622     2020         2\n",
       "1  552619236026332123   Экзамен        0.076129     2020         2\n",
       "2  626617645851559829   Экзамен        0.053191     2020         2\n",
       "3  695931230947311728   Экзамен        0.053279     2020         2\n",
       "4  707224039586067120   Экзамен        0.025000     2020         2"
      ]
     },
     "execution_count": 20,
     "metadata": {},
     "output_type": "execute_result"
    }
   ],
   "source": [
    "all_disc_df = pd.concat(all_disc_df)\n",
    "all_disc_df.head()"
   ]
  },
  {
   "cell_type": "code",
   "execution_count": 21,
   "id": "b34f3f82",
   "metadata": {},
   "outputs": [],
   "source": [
    "data_train = data_train.merge(all_st_df, on=['ISU', 'ST_YEAR', 'SEMESTER', 'TYPE_NAME'], how='left')\\\n",
    ".merge(all_disc_df, on=['DISC_ID', 'ST_YEAR', 'SEMESTER', 'TYPE_NAME'], how='left')\n",
    "\n",
    "data_test = data_test.merge(all_st_df, on=['ISU', 'ST_YEAR', 'SEMESTER', 'TYPE_NAME'], how='left')\\\n",
    ".merge(all_disc_df, on=['DISC_ID', 'ST_YEAR', 'SEMESTER', 'TYPE_NAME'], how='left')"
   ]
  },
  {
   "cell_type": "markdown",
   "id": "170c981e",
   "metadata": {},
   "source": [
    "# 5. Подготовка train/test"
   ]
  },
  {
   "cell_type": "code",
   "execution_count": 22,
   "id": "9724faea",
   "metadata": {},
   "outputs": [
    {
     "data": {
      "text/html": [
       "<div>\n",
       "<style scoped>\n",
       "    .dataframe tbody tr th:only-of-type {\n",
       "        vertical-align: middle;\n",
       "    }\n",
       "\n",
       "    .dataframe tbody tr th {\n",
       "        vertical-align: top;\n",
       "    }\n",
       "\n",
       "    .dataframe thead th {\n",
       "        text-align: right;\n",
       "    }\n",
       "</style>\n",
       "<table border=\"1\" class=\"dataframe\">\n",
       "  <thead>\n",
       "    <tr style=\"text-align: right;\">\n",
       "      <th></th>\n",
       "      <th>ISU</th>\n",
       "      <th>ST_YEAR</th>\n",
       "      <th>SEMESTER</th>\n",
       "      <th>DISC_ID</th>\n",
       "      <th>TYPE_NAME</th>\n",
       "      <th>DEBT</th>\n",
       "    </tr>\n",
       "  </thead>\n",
       "  <tbody>\n",
       "    <tr>\n",
       "      <th>0</th>\n",
       "      <td>17623928044460629977</td>\n",
       "      <td>2020</td>\n",
       "      <td>1</td>\n",
       "      <td>10502311854018326223</td>\n",
       "      <td>Зачет</td>\n",
       "      <td>0</td>\n",
       "    </tr>\n",
       "    <tr>\n",
       "      <th>1</th>\n",
       "      <td>17623928044460629977</td>\n",
       "      <td>2020</td>\n",
       "      <td>1</td>\n",
       "      <td>1601392918367593206</td>\n",
       "      <td>Зачет</td>\n",
       "      <td>0</td>\n",
       "    </tr>\n",
       "    <tr>\n",
       "      <th>2</th>\n",
       "      <td>17623928044460629977</td>\n",
       "      <td>2020</td>\n",
       "      <td>1</td>\n",
       "      <td>9559803959325174929</td>\n",
       "      <td>Зачет</td>\n",
       "      <td>0</td>\n",
       "    </tr>\n",
       "    <tr>\n",
       "      <th>3</th>\n",
       "      <td>17623928044460629977</td>\n",
       "      <td>2020</td>\n",
       "      <td>1</td>\n",
       "      <td>8955667882044263414</td>\n",
       "      <td>Зачет</td>\n",
       "      <td>0</td>\n",
       "    </tr>\n",
       "    <tr>\n",
       "      <th>4</th>\n",
       "      <td>17623928044460629977</td>\n",
       "      <td>2020</td>\n",
       "      <td>1</td>\n",
       "      <td>17741967398854095262</td>\n",
       "      <td>Экзамен</td>\n",
       "      <td>0</td>\n",
       "    </tr>\n",
       "  </tbody>\n",
       "</table>\n",
       "</div>"
      ],
      "text/plain": [
       "                    ISU  ST_YEAR  SEMESTER               DISC_ID TYPE_NAME  \\\n",
       "0  17623928044460629977     2020         1  10502311854018326223     Зачет   \n",
       "1  17623928044460629977     2020         1   1601392918367593206     Зачет   \n",
       "2  17623928044460629977     2020         1   9559803959325174929     Зачет   \n",
       "3  17623928044460629977     2020         1   8955667882044263414     Зачет   \n",
       "4  17623928044460629977     2020         1  17741967398854095262   Экзамен   \n",
       "\n",
       "   DEBT  \n",
       "0     0  \n",
       "1     0  \n",
       "2     0  \n",
       "3     0  \n",
       "4     0  "
      ]
     },
     "execution_count": 22,
     "metadata": {},
     "output_type": "execute_result"
    }
   ],
   "source": [
    "train.head()"
   ]
  },
  {
   "cell_type": "code",
   "execution_count": 23,
   "id": "6bbedc07",
   "metadata": {
    "scrolled": true
   },
   "outputs": [
    {
     "data": {
      "text/html": [
       "<div>\n",
       "<style scoped>\n",
       "    .dataframe tbody tr th:only-of-type {\n",
       "        vertical-align: middle;\n",
       "    }\n",
       "\n",
       "    .dataframe tbody tr th {\n",
       "        vertical-align: top;\n",
       "    }\n",
       "\n",
       "    .dataframe thead th {\n",
       "        text-align: right;\n",
       "    }\n",
       "</style>\n",
       "<table border=\"1\" class=\"dataframe\">\n",
       "  <thead>\n",
       "    <tr style=\"text-align: right;\">\n",
       "      <th></th>\n",
       "      <th>ISU</th>\n",
       "      <th>SEMESTER</th>\n",
       "      <th>DISC_ID</th>\n",
       "      <th>TYPE_NAME</th>\n",
       "      <th>DEBT_MEAN</th>\n",
       "      <th>DISC_DEBT_MEAN</th>\n",
       "      <th>AVG_MARK</th>\n",
       "      <th>AVG_MARK_DISC</th>\n",
       "      <th>GENDER</th>\n",
       "      <th>EXAM_TYPE</th>\n",
       "      <th>PRIZNAK</th>\n",
       "      <th>PRIZNAK_KURS</th>\n",
       "      <th>DEBT</th>\n",
       "    </tr>\n",
       "  </thead>\n",
       "  <tbody>\n",
       "    <tr>\n",
       "      <th>0</th>\n",
       "      <td>17623928044460629977</td>\n",
       "      <td>1</td>\n",
       "      <td>10502311854018326223</td>\n",
       "      <td>Зачет</td>\n",
       "      <td>0.00671</td>\n",
       "      <td>0.050727</td>\n",
       "      <td>4.0</td>\n",
       "      <td>4.918182</td>\n",
       "      <td>М</td>\n",
       "      <td>ЕГЭ</td>\n",
       "      <td>0.666667</td>\n",
       "      <td>0.945161</td>\n",
       "      <td>0</td>\n",
       "    </tr>\n",
       "    <tr>\n",
       "      <th>1</th>\n",
       "      <td>17623928044460629977</td>\n",
       "      <td>2</td>\n",
       "      <td>10502311854018326223</td>\n",
       "      <td>Зачет</td>\n",
       "      <td>0.00671</td>\n",
       "      <td>0.050727</td>\n",
       "      <td>4.0</td>\n",
       "      <td>4.918182</td>\n",
       "      <td>М</td>\n",
       "      <td>ЕГЭ</td>\n",
       "      <td>0.666667</td>\n",
       "      <td>0.945161</td>\n",
       "      <td>0</td>\n",
       "    </tr>\n",
       "    <tr>\n",
       "      <th>2</th>\n",
       "      <td>17623928044460629977</td>\n",
       "      <td>1</td>\n",
       "      <td>10502311854018326223</td>\n",
       "      <td>Зачет</td>\n",
       "      <td>0.00671</td>\n",
       "      <td>0.050727</td>\n",
       "      <td>4.0</td>\n",
       "      <td>4.918182</td>\n",
       "      <td>М</td>\n",
       "      <td>ЕГЭ</td>\n",
       "      <td>0.666667</td>\n",
       "      <td>0.945161</td>\n",
       "      <td>0</td>\n",
       "    </tr>\n",
       "    <tr>\n",
       "      <th>3</th>\n",
       "      <td>17623928044460629977</td>\n",
       "      <td>2</td>\n",
       "      <td>10502311854018326223</td>\n",
       "      <td>Зачет</td>\n",
       "      <td>0.00000</td>\n",
       "      <td>0.035714</td>\n",
       "      <td>4.0</td>\n",
       "      <td>4.918182</td>\n",
       "      <td>М</td>\n",
       "      <td>ЕГЭ</td>\n",
       "      <td>0.666667</td>\n",
       "      <td>0.945161</td>\n",
       "      <td>0</td>\n",
       "    </tr>\n",
       "    <tr>\n",
       "      <th>4</th>\n",
       "      <td>17623928044460629977</td>\n",
       "      <td>1</td>\n",
       "      <td>1601392918367593206</td>\n",
       "      <td>Зачет</td>\n",
       "      <td>0.00671</td>\n",
       "      <td>0.050727</td>\n",
       "      <td>4.0</td>\n",
       "      <td>4.858446</td>\n",
       "      <td>М</td>\n",
       "      <td>ЕГЭ</td>\n",
       "      <td>0.666667</td>\n",
       "      <td>0.945161</td>\n",
       "      <td>0</td>\n",
       "    </tr>\n",
       "  </tbody>\n",
       "</table>\n",
       "</div>"
      ],
      "text/plain": [
       "                    ISU  SEMESTER               DISC_ID TYPE_NAME  DEBT_MEAN  \\\n",
       "0  17623928044460629977         1  10502311854018326223     Зачет    0.00671   \n",
       "1  17623928044460629977         2  10502311854018326223     Зачет    0.00671   \n",
       "2  17623928044460629977         1  10502311854018326223     Зачет    0.00671   \n",
       "3  17623928044460629977         2  10502311854018326223     Зачет    0.00000   \n",
       "4  17623928044460629977         1   1601392918367593206     Зачет    0.00671   \n",
       "\n",
       "   DISC_DEBT_MEAN  AVG_MARK  AVG_MARK_DISC GENDER EXAM_TYPE   PRIZNAK  \\\n",
       "0        0.050727       4.0       4.918182      М       ЕГЭ  0.666667   \n",
       "1        0.050727       4.0       4.918182      М       ЕГЭ  0.666667   \n",
       "2        0.050727       4.0       4.918182      М       ЕГЭ  0.666667   \n",
       "3        0.035714       4.0       4.918182      М       ЕГЭ  0.666667   \n",
       "4        0.050727       4.0       4.858446      М       ЕГЭ  0.666667   \n",
       "\n",
       "   PRIZNAK_KURS  DEBT  \n",
       "0      0.945161     0  \n",
       "1      0.945161     0  \n",
       "2      0.945161     0  \n",
       "3      0.945161     0  \n",
       "4      0.945161     0  "
      ]
     },
     "execution_count": 23,
     "metadata": {},
     "output_type": "execute_result"
    }
   ],
   "source": [
    "#добавление в train параметров из comp_marks.csv\n",
    "train_2 = data_train.merge(avg_mark, on=['ISU'], how='inner').merge(avg_mark_disc, on=['DISC_ID'], how='inner')\n",
    "\n",
    "#добавление в train параметров из comp_portrait.csv\n",
    "train_2 = train_2.merge(comp_portrait_2, on=['ISU'], how='inner')\n",
    "\n",
    "#добавление в train параметров из comp_students.csv\n",
    "train_2['KURS'] = train_2['SEMESTER']/2+0.1\n",
    "train_2.KURS = train_2.KURS.round(0)\n",
    "train_2 = train_2.merge(priznak, on=['ISU'], how='inner').merge(priznak_kurs, on=['KURS'], how='inner')\n",
    "\n",
    "#перенос 'DEBT' в последний столбец таблицы\n",
    "train_2 = train_2.rename (columns= {'DEBT': 'DEBT_DROP'})\n",
    "train_2['DEBT'] = train_2['DEBT_DROP']\n",
    "\n",
    "#заполнение отсутствующих данных\n",
    "train_2['DEBT_MEAN'] = train_2['DEBT_MEAN'].fillna(data_train['DEBT_MEAN'].mean())\n",
    "train_2['DISC_DEBT_MEAN'] = train_2['DISC_DEBT_MEAN'].fillna(data_train['DISC_DEBT_MEAN'].mean())\n",
    "\n",
    "#удаление столбцов\n",
    "train_2 = train_2.drop(columns = ['ST_YEAR', 'KURS', 'DEBT_DROP'])\n",
    "\n",
    "train_2.head()"
   ]
  },
  {
   "cell_type": "code",
   "execution_count": 24,
   "id": "4f7f0767",
   "metadata": {},
   "outputs": [
    {
     "data": {
      "text/html": [
       "<div>\n",
       "<style scoped>\n",
       "    .dataframe tbody tr th:only-of-type {\n",
       "        vertical-align: middle;\n",
       "    }\n",
       "\n",
       "    .dataframe tbody tr th {\n",
       "        vertical-align: top;\n",
       "    }\n",
       "\n",
       "    .dataframe thead th {\n",
       "        text-align: right;\n",
       "    }\n",
       "</style>\n",
       "<table border=\"1\" class=\"dataframe\">\n",
       "  <thead>\n",
       "    <tr style=\"text-align: right;\">\n",
       "      <th></th>\n",
       "      <th>ISU</th>\n",
       "      <th>SEMESTER</th>\n",
       "      <th>DISC_ID</th>\n",
       "      <th>TYPE_NAME</th>\n",
       "      <th>DEBT_MEAN</th>\n",
       "      <th>DISC_DEBT_MEAN</th>\n",
       "      <th>AVG_MARK</th>\n",
       "      <th>AVG_MARK_DISC</th>\n",
       "      <th>GENDER</th>\n",
       "      <th>EXAM_TYPE</th>\n",
       "      <th>PRIZNAK</th>\n",
       "      <th>PRIZNAK_KURS</th>\n",
       "    </tr>\n",
       "  </thead>\n",
       "  <tbody>\n",
       "    <tr>\n",
       "      <th>0</th>\n",
       "      <td>22160896830459167</td>\n",
       "      <td>3</td>\n",
       "      <td>552619236026332123</td>\n",
       "      <td>Экзамен</td>\n",
       "      <td>0.00671</td>\n",
       "      <td>0.050727</td>\n",
       "      <td>4.65</td>\n",
       "      <td>3.726659</td>\n",
       "      <td>М</td>\n",
       "      <td>ЕГЭ</td>\n",
       "      <td>1.0</td>\n",
       "      <td>0.937471</td>\n",
       "    </tr>\n",
       "    <tr>\n",
       "      <th>1</th>\n",
       "      <td>22160896830459167</td>\n",
       "      <td>3</td>\n",
       "      <td>5702509582319458883</td>\n",
       "      <td>Зачет</td>\n",
       "      <td>0.00671</td>\n",
       "      <td>0.050727</td>\n",
       "      <td>4.65</td>\n",
       "      <td>4.858387</td>\n",
       "      <td>М</td>\n",
       "      <td>ЕГЭ</td>\n",
       "      <td>1.0</td>\n",
       "      <td>0.937471</td>\n",
       "    </tr>\n",
       "    <tr>\n",
       "      <th>2</th>\n",
       "      <td>22160896830459167</td>\n",
       "      <td>3</td>\n",
       "      <td>7735626259430674628</td>\n",
       "      <td>Зачет</td>\n",
       "      <td>0.00671</td>\n",
       "      <td>0.050727</td>\n",
       "      <td>4.65</td>\n",
       "      <td>4.983287</td>\n",
       "      <td>М</td>\n",
       "      <td>ЕГЭ</td>\n",
       "      <td>1.0</td>\n",
       "      <td>0.937471</td>\n",
       "    </tr>\n",
       "    <tr>\n",
       "      <th>3</th>\n",
       "      <td>22160896830459167</td>\n",
       "      <td>3</td>\n",
       "      <td>8955667882044263414</td>\n",
       "      <td>Зачет</td>\n",
       "      <td>0.00671</td>\n",
       "      <td>0.050727</td>\n",
       "      <td>4.65</td>\n",
       "      <td>4.824812</td>\n",
       "      <td>М</td>\n",
       "      <td>ЕГЭ</td>\n",
       "      <td>1.0</td>\n",
       "      <td>0.937471</td>\n",
       "    </tr>\n",
       "    <tr>\n",
       "      <th>4</th>\n",
       "      <td>22160896830459167</td>\n",
       "      <td>3</td>\n",
       "      <td>9075687484357010791</td>\n",
       "      <td>Зачет</td>\n",
       "      <td>0.00671</td>\n",
       "      <td>0.050727</td>\n",
       "      <td>4.65</td>\n",
       "      <td>5.000000</td>\n",
       "      <td>М</td>\n",
       "      <td>ЕГЭ</td>\n",
       "      <td>1.0</td>\n",
       "      <td>0.937471</td>\n",
       "    </tr>\n",
       "  </tbody>\n",
       "</table>\n",
       "</div>"
      ],
      "text/plain": [
       "                 ISU  SEMESTER              DISC_ID TYPE_NAME  DEBT_MEAN  \\\n",
       "0  22160896830459167         3   552619236026332123   Экзамен    0.00671   \n",
       "1  22160896830459167         3  5702509582319458883     Зачет    0.00671   \n",
       "2  22160896830459167         3  7735626259430674628     Зачет    0.00671   \n",
       "3  22160896830459167         3  8955667882044263414     Зачет    0.00671   \n",
       "4  22160896830459167         3  9075687484357010791     Зачет    0.00671   \n",
       "\n",
       "   DISC_DEBT_MEAN  AVG_MARK  AVG_MARK_DISC GENDER EXAM_TYPE  PRIZNAK  \\\n",
       "0        0.050727      4.65       3.726659      М       ЕГЭ      1.0   \n",
       "1        0.050727      4.65       4.858387      М       ЕГЭ      1.0   \n",
       "2        0.050727      4.65       4.983287      М       ЕГЭ      1.0   \n",
       "3        0.050727      4.65       4.824812      М       ЕГЭ      1.0   \n",
       "4        0.050727      4.65       5.000000      М       ЕГЭ      1.0   \n",
       "\n",
       "   PRIZNAK_KURS  \n",
       "0      0.937471  \n",
       "1      0.937471  \n",
       "2      0.937471  \n",
       "3      0.937471  \n",
       "4      0.937471  "
      ]
     },
     "execution_count": 24,
     "metadata": {},
     "output_type": "execute_result"
    }
   ],
   "source": [
    "#добавление в test параметров из comp_marks.csv\n",
    "test_2 = data_test.merge(avg_mark, on=['ISU'], how='left').merge(avg_mark_disc, on=['DISC_ID'], how='left')\n",
    "\n",
    "#добавление в test параметров из comp_portrait.csv\n",
    "test_2 = test_2.merge(comp_portrait_2, on=['ISU'], how='left')\n",
    "\n",
    "#добавление в test параметров из comp_students.csv\n",
    "test_2['KURS'] = test_2['SEMESTER']/2+0.1\n",
    "test_2.KURS = test_2.KURS.round(0)\n",
    "test_2 = test_2.merge(priznak, on=['ISU'], how='left').merge(priznak_kurs, on=['KURS'], how='left')\n",
    "\n",
    "#заполнение отсутствующих данных\n",
    "test_2['AVG_MARK'] = test_2['AVG_MARK'].fillna(avg_mark['AVG_MARK'].median())\n",
    "test_2['AVG_MARK_DISC'] = test_2['AVG_MARK_DISC'].fillna(avg_mark_disc['AVG_MARK_DISC'].median())\n",
    "test_2['PRIZNAK'] = test_2['PRIZNAK'].fillna(priznak['PRIZNAK'].mean())\n",
    "test_2['DEBT_MEAN'] = test_2['DEBT_MEAN'].fillna(data_train['DEBT_MEAN'].mean())\n",
    "test_2['DISC_DEBT_MEAN'] = test_2['DISC_DEBT_MEAN'].fillna(data_train['DISC_DEBT_MEAN'].mean())\n",
    "\n",
    "#удаление столбцов\n",
    "test_2 = test_2.drop(columns = ['ST_YEAR', 'KURS'])\n",
    "\n",
    "test_2.head()"
   ]
  },
  {
   "cell_type": "markdown",
   "id": "8544314d",
   "metadata": {},
   "source": [
    "## 5.1 Разведочный анализ"
   ]
  },
  {
   "cell_type": "markdown",
   "id": "d7c3d154",
   "metadata": {},
   "source": [
    "Задача - оценить, влияет ли показатель 'AVG_MARK' на вероятность того, что у студента возникнет академическая задолженность"
   ]
  },
  {
   "cell_type": "code",
   "execution_count": 25,
   "id": "c56b92ae",
   "metadata": {},
   "outputs": [
    {
     "data": {
      "text/plain": [
       "<AxesSubplot:xlabel='AVG_MARK'>"
      ]
     },
     "execution_count": 25,
     "metadata": {},
     "output_type": "execute_result"
    },
    {
     "data": {
      "image/png": "[encoded data removed]",
      "text/plain": [
       "<Figure size 432x288 with 1 Axes>"
      ]
     },
     "metadata": {
      "needs_background": "light"
     },
     "output_type": "display_data"
    }
   ],
   "source": [
    "int_avg_mark = train_2.groupby('AVG_MARK').mean()\n",
    "int_avg_mark.plot(y = \"DEBT\")"
   ]
  },
  {
   "cell_type": "markdown",
   "id": "12d85cfd",
   "metadata": {},
   "source": [
    "**Вывод - да, влияет; чем больше 'AVG_MARK', тем меньше вероятность возникновения задолженности**\n",
    "\n",
    "Аналогично оценим показатель 'AVG_MARK_DISC'"
   ]
  },
  {
   "cell_type": "code",
   "execution_count": 26,
   "id": "ce5518a3",
   "metadata": {},
   "outputs": [
    {
     "data": {
      "image/png": "[encoded data removed]",
      "text/plain": [
       "<Figure size 432x288 with 1 Axes>"
      ]
     },
     "metadata": {
      "needs_background": "light"
     },
     "output_type": "display_data"
    }
   ],
   "source": [
    "int_avg_mark_disc = train_2.groupby('AVG_MARK_DISC', as_index = False).mean()\n",
    "\n",
    "x = int_avg_mark_disc['AVG_MARK_DISC']\n",
    "y = int_avg_mark_disc['DEBT']\n",
    "plt.scatter(x, y)\n",
    "\n",
    "z = np.polyfit(x, y, 1)\n",
    "p = np.poly1d(z)\n",
    "plt.plot(x,p(x),\"r--\")\n",
    "\n",
    "plt.xlabel(\"AVG_MARK_DISC\")\n",
    "plt.ylabel(\"DEBT\")\n",
    "\n",
    "plt.show()"
   ]
  },
  {
   "cell_type": "markdown",
   "id": "c9d2c406",
   "metadata": {},
   "source": [
    "**Чем меньше 'AVG_MARK_DISC', тем больше вероятность возникновения академической задолженности**"
   ]
  },
  {
   "cell_type": "code",
   "execution_count": 27,
   "id": "82309a9f",
   "metadata": {},
   "outputs": [
    {
     "data": {
      "text/plain": [
       "<AxesSubplot:xlabel='PRIZNAK'>"
      ]
     },
     "execution_count": 27,
     "metadata": {},
     "output_type": "execute_result"
    },
    {
     "data": {
      "image/png": "[encoded data removed]",
      "text/plain": [
       "<Figure size 432x288 with 1 Axes>"
      ]
     },
     "metadata": {
      "needs_background": "light"
     },
     "output_type": "display_data"
    }
   ],
   "source": [
    "int_priznak = train_2.groupby('PRIZNAK').mean()\n",
    "int_priznak.plot(y = \"DEBT\")"
   ]
  },
  {
   "cell_type": "markdown",
   "id": "97ec7959",
   "metadata": {},
   "source": [
    "**Чем больше 'PRIZNAK', тем меньше вероятность возникновения задолженности**"
   ]
  },
  {
   "cell_type": "code",
   "execution_count": 28,
   "id": "a18c461f",
   "metadata": {},
   "outputs": [
    {
     "data": {
      "text/plain": [
       "<AxesSubplot:xlabel='TYPE_NAME'>"
      ]
     },
     "execution_count": 28,
     "metadata": {},
     "output_type": "execute_result"
    },
    {
     "data": {
      "image/png": "[encoded data removed]",
      "text/plain": [
       "<Figure size 432x288 with 1 Axes>"
      ]
     },
     "metadata": {
      "needs_background": "light"
     },
     "output_type": "display_data"
    }
   ],
   "source": [
    "int_type_name = train_2.groupby('TYPE_NAME').mean()\n",
    "int_type_name.plot(y = \"DEBT\")"
   ]
  },
  {
   "cell_type": "markdown",
   "id": "6610ae5e",
   "metadata": {},
   "source": [
    "**Самая низкая вероятность возникновения задолженности - на зачете, самая высокая - на диф. зачете и на экзамене**"
   ]
  },
  {
   "cell_type": "code",
   "execution_count": 29,
   "id": "b9872ea2",
   "metadata": {},
   "outputs": [
    {
     "data": {
      "text/plain": [
       "<AxesSubplot:xlabel='SEMESTER'>"
      ]
     },
     "execution_count": 29,
     "metadata": {},
     "output_type": "execute_result"
    },
    {
     "data": {
      "image/png": "[encoded data removed]",
      "text/plain": [
       "<Figure size 432x288 with 1 Axes>"
      ]
     },
     "metadata": {
      "needs_background": "light"
     },
     "output_type": "display_data"
    }
   ],
   "source": [
    "int_semester = train_2.groupby('SEMESTER').mean()\n",
    "int_semester.plot(y = \"DEBT\")"
   ]
  },
  {
   "cell_type": "markdown",
   "id": "6360c588",
   "metadata": {},
   "source": [
    "**Вероятность возникновения задолженности падает с каждым последующим семестром**"
   ]
  },
  {
   "cell_type": "markdown",
   "id": "c5078ce0",
   "metadata": {},
   "source": [
    "**Вывод: показатели 'AVG_MARK', 'AVG_MARK_DISC', 'PRIZNAK','TYPE_NAME' и 'SEMESTER' влияют на таргет\n",
    "и могут быть использованы для обучения модели**"
   ]
  },
  {
   "cell_type": "markdown",
   "id": "9f90e6ac",
   "metadata": {},
   "source": [
    "## 5.2 one-hot-encoding"
   ]
  },
  {
   "cell_type": "code",
   "execution_count": 30,
   "id": "5672276e",
   "metadata": {},
   "outputs": [],
   "source": [
    "def encode_categorical(df_train, df_test):\n",
    "    \n",
    "    test_start_ind = df_train.index[-1]\n",
    "    concated_df = pd.concat([df_train, df_test], sort=False) \n",
    "    encoded_df = pd.get_dummies(concated_df, drop_first=True) \n",
    "    df_train_encoded, df_test_encoded = encoded_df.iloc[:test_start_ind+1, :], encoded_df.iloc[test_start_ind+1:, :] \n",
    "    \n",
    "    return df_train_encoded, df_test_encoded"
   ]
  },
  {
   "cell_type": "code",
   "execution_count": 31,
   "id": "697c1a36",
   "metadata": {},
   "outputs": [
    {
     "data": {
      "text/html": [
       "<div>\n",
       "<style scoped>\n",
       "    .dataframe tbody tr th:only-of-type {\n",
       "        vertical-align: middle;\n",
       "    }\n",
       "\n",
       "    .dataframe tbody tr th {\n",
       "        vertical-align: top;\n",
       "    }\n",
       "\n",
       "    .dataframe thead th {\n",
       "        text-align: right;\n",
       "    }\n",
       "</style>\n",
       "<table border=\"1\" class=\"dataframe\">\n",
       "  <thead>\n",
       "    <tr style=\"text-align: right;\">\n",
       "      <th></th>\n",
       "      <th>ISU</th>\n",
       "      <th>SEMESTER</th>\n",
       "      <th>DISC_ID</th>\n",
       "      <th>DEBT_MEAN</th>\n",
       "      <th>DISC_DEBT_MEAN</th>\n",
       "      <th>AVG_MARK</th>\n",
       "      <th>AVG_MARK_DISC</th>\n",
       "      <th>PRIZNAK</th>\n",
       "      <th>PRIZNAK_KURS</th>\n",
       "      <th>TYPE_NAME_Зачет</th>\n",
       "      <th>TYPE_NAME_Курсовой проект</th>\n",
       "      <th>TYPE_NAME_Экзамен</th>\n",
       "      <th>GENDER_М</th>\n",
       "      <th>EXAM_TYPE_ЕГЭ</th>\n",
       "      <th>EXAM_TYPE_ОЛИМПИАДА</th>\n",
       "    </tr>\n",
       "  </thead>\n",
       "  <tbody>\n",
       "    <tr>\n",
       "      <th>0</th>\n",
       "      <td>22160896830459167</td>\n",
       "      <td>3</td>\n",
       "      <td>552619236026332123</td>\n",
       "      <td>0.00671</td>\n",
       "      <td>0.050727</td>\n",
       "      <td>4.65</td>\n",
       "      <td>3.726659</td>\n",
       "      <td>1.0</td>\n",
       "      <td>0.937471</td>\n",
       "      <td>0</td>\n",
       "      <td>0</td>\n",
       "      <td>1</td>\n",
       "      <td>1</td>\n",
       "      <td>1</td>\n",
       "      <td>0</td>\n",
       "    </tr>\n",
       "    <tr>\n",
       "      <th>1</th>\n",
       "      <td>22160896830459167</td>\n",
       "      <td>3</td>\n",
       "      <td>5702509582319458883</td>\n",
       "      <td>0.00671</td>\n",
       "      <td>0.050727</td>\n",
       "      <td>4.65</td>\n",
       "      <td>4.858387</td>\n",
       "      <td>1.0</td>\n",
       "      <td>0.937471</td>\n",
       "      <td>1</td>\n",
       "      <td>0</td>\n",
       "      <td>0</td>\n",
       "      <td>1</td>\n",
       "      <td>1</td>\n",
       "      <td>0</td>\n",
       "    </tr>\n",
       "    <tr>\n",
       "      <th>2</th>\n",
       "      <td>22160896830459167</td>\n",
       "      <td>3</td>\n",
       "      <td>7735626259430674628</td>\n",
       "      <td>0.00671</td>\n",
       "      <td>0.050727</td>\n",
       "      <td>4.65</td>\n",
       "      <td>4.983287</td>\n",
       "      <td>1.0</td>\n",
       "      <td>0.937471</td>\n",
       "      <td>1</td>\n",
       "      <td>0</td>\n",
       "      <td>0</td>\n",
       "      <td>1</td>\n",
       "      <td>1</td>\n",
       "      <td>0</td>\n",
       "    </tr>\n",
       "    <tr>\n",
       "      <th>3</th>\n",
       "      <td>22160896830459167</td>\n",
       "      <td>3</td>\n",
       "      <td>8955667882044263414</td>\n",
       "      <td>0.00671</td>\n",
       "      <td>0.050727</td>\n",
       "      <td>4.65</td>\n",
       "      <td>4.824812</td>\n",
       "      <td>1.0</td>\n",
       "      <td>0.937471</td>\n",
       "      <td>1</td>\n",
       "      <td>0</td>\n",
       "      <td>0</td>\n",
       "      <td>1</td>\n",
       "      <td>1</td>\n",
       "      <td>0</td>\n",
       "    </tr>\n",
       "    <tr>\n",
       "      <th>4</th>\n",
       "      <td>22160896830459167</td>\n",
       "      <td>3</td>\n",
       "      <td>9075687484357010791</td>\n",
       "      <td>0.00671</td>\n",
       "      <td>0.050727</td>\n",
       "      <td>4.65</td>\n",
       "      <td>5.000000</td>\n",
       "      <td>1.0</td>\n",
       "      <td>0.937471</td>\n",
       "      <td>1</td>\n",
       "      <td>0</td>\n",
       "      <td>0</td>\n",
       "      <td>1</td>\n",
       "      <td>1</td>\n",
       "      <td>0</td>\n",
       "    </tr>\n",
       "  </tbody>\n",
       "</table>\n",
       "</div>"
      ],
      "text/plain": [
       "                 ISU  SEMESTER              DISC_ID  DEBT_MEAN  \\\n",
       "0  22160896830459167         3   552619236026332123    0.00671   \n",
       "1  22160896830459167         3  5702509582319458883    0.00671   \n",
       "2  22160896830459167         3  7735626259430674628    0.00671   \n",
       "3  22160896830459167         3  8955667882044263414    0.00671   \n",
       "4  22160896830459167         3  9075687484357010791    0.00671   \n",
       "\n",
       "   DISC_DEBT_MEAN  AVG_MARK  AVG_MARK_DISC  PRIZNAK  PRIZNAK_KURS  \\\n",
       "0        0.050727      4.65       3.726659      1.0      0.937471   \n",
       "1        0.050727      4.65       4.858387      1.0      0.937471   \n",
       "2        0.050727      4.65       4.983287      1.0      0.937471   \n",
       "3        0.050727      4.65       4.824812      1.0      0.937471   \n",
       "4        0.050727      4.65       5.000000      1.0      0.937471   \n",
       "\n",
       "   TYPE_NAME_Зачет  TYPE_NAME_Курсовой проект  TYPE_NAME_Экзамен  GENDER_М  \\\n",
       "0                0                          0                  1         1   \n",
       "1                1                          0                  0         1   \n",
       "2                1                          0                  0         1   \n",
       "3                1                          0                  0         1   \n",
       "4                1                          0                  0         1   \n",
       "\n",
       "   EXAM_TYPE_ЕГЭ  EXAM_TYPE_ОЛИМПИАДА  \n",
       "0              1                    0  \n",
       "1              1                    0  \n",
       "2              1                    0  \n",
       "3              1                    0  \n",
       "4              1                    0  "
      ]
     },
     "execution_count": 31,
     "metadata": {},
     "output_type": "execute_result"
    }
   ],
   "source": [
    "X_train, X_test = encode_categorical(train_2.drop(columns = ['DEBT']), test_2)\n",
    "y_train = train_2['DEBT']\n",
    "\n",
    "X_test.head()"
   ]
  },
  {
   "cell_type": "markdown",
   "id": "247bc9c9",
   "metadata": {},
   "source": [
    "## 5.3 train_test_split"
   ]
  },
  {
   "cell_type": "code",
   "execution_count": 32,
   "id": "25a5bd89",
   "metadata": {},
   "outputs": [],
   "source": [
    "y = train_2['DEBT']\n",
    "X = X_train"
   ]
  },
  {
   "cell_type": "code",
   "execution_count": 33,
   "id": "09557d52",
   "metadata": {},
   "outputs": [],
   "source": [
    "X_train1, X_test1, y_train1, y_test1 = train_test_split(X, y, train_size=0.85)"
   ]
  },
  {
   "cell_type": "markdown",
   "id": "d066c0d5",
   "metadata": {},
   "source": [
    "# 6. Обучение модели"
   ]
  },
  {
   "cell_type": "code",
   "execution_count": 34,
   "id": "eb56bf60",
   "metadata": {},
   "outputs": [],
   "source": [
    "dt_clf = DecisionTreeClassifier()"
   ]
  },
  {
   "cell_type": "code",
   "execution_count": 35,
   "id": "316bfab6",
   "metadata": {},
   "outputs": [
    {
     "data": {
      "text/plain": [
       "DecisionTreeClassifier()"
      ]
     },
     "execution_count": 35,
     "metadata": {},
     "output_type": "execute_result"
    }
   ],
   "source": [
    "dt_clf.fit(X_train1, y_train1)"
   ]
  },
  {
   "cell_type": "code",
   "execution_count": 36,
   "id": "8c3eb99f",
   "metadata": {},
   "outputs": [],
   "source": [
    "dt_clf_pred = dt_clf.predict(X_test1)"
   ]
  },
  {
   "cell_type": "code",
   "execution_count": 37,
   "id": "be49b0ea",
   "metadata": {},
   "outputs": [
    {
     "data": {
      "text/plain": [
       "array([[24643,   442],\n",
       "       [  416,   777]], dtype=int64)"
      ]
     },
     "execution_count": 37,
     "metadata": {},
     "output_type": "execute_result"
    }
   ],
   "source": [
    "matrix_dt_clf = confusion_matrix(y_test1, dt_clf_pred)\n",
    "matrix_dt_clf"
   ]
  },
  {
   "cell_type": "code",
   "execution_count": 38,
   "id": "6d7c8aa1",
   "metadata": {},
   "outputs": [
    {
     "data": {
      "text/plain": [
       "<AxesSubplot:>"
      ]
     },
     "execution_count": 38,
     "metadata": {},
     "output_type": "execute_result"
    },
    {
     "data": {
      "image/png": "[encoded data removed]",
      "text/plain": [
       "<Figure size 432x288 with 2 Axes>"
      ]
     },
     "metadata": {
      "needs_background": "light"
     },
     "output_type": "display_data"
    }
   ],
   "source": [
    "import seaborn as sns\n",
    "\n",
    "group_names  = ['TN', 'FP', 'FN', 'TP']\n",
    "\n",
    "group_counts = [\"{0:0.0f}\".format(value) for value in matrix_dt_clf.flatten()]\n",
    "\n",
    "labels = [f\"{v1}\\n{v2}\" for v1, v2 in\n",
    "          zip(group_names, group_counts)]\n",
    "\n",
    "\n",
    "labels = np.asarray(labels).reshape(2,2)\n",
    "\n",
    "sns.heatmap(matrix_dt_clf, annot=labels, annot_kws={\"fontsize\":14}, fmt='', cmap='Blues')"
   ]
  },
  {
   "cell_type": "code",
   "execution_count": 39,
   "id": "2d97bbbc",
   "metadata": {},
   "outputs": [
    {
     "name": "stdout",
     "output_type": "stream",
     "text": [
      "f1 score 0.64428\n",
      "accuracy score 0.96735\n",
      "precision score 0.63741\n",
      "recall score 0.6513\n"
     ]
    }
   ],
   "source": [
    "print('f1 score', round(f1_score(y_test1, dt_clf_pred), 5))\n",
    "print('accuracy score', round(accuracy_score(y_test1, dt_clf_pred), 5))\n",
    "print('precision score', round(precision_score(y_test1, dt_clf_pred), 5))\n",
    "print('recall score', round(recall_score(y_test1, dt_clf_pred), 5))"
   ]
  },
  {
   "cell_type": "code",
   "execution_count": 40,
   "id": "76db1ff0",
   "metadata": {},
   "outputs": [],
   "source": [
    "dt_clf_fin = DecisionTreeClassifier()"
   ]
  },
  {
   "cell_type": "code",
   "execution_count": 41,
   "id": "21854e56",
   "metadata": {},
   "outputs": [
    {
     "data": {
      "text/plain": [
       "DecisionTreeClassifier()"
      ]
     },
     "execution_count": 41,
     "metadata": {},
     "output_type": "execute_result"
    }
   ],
   "source": [
    "dt_clf_fin.fit(X_train, y_train)"
   ]
  },
  {
   "cell_type": "code",
   "execution_count": 42,
   "id": "d83e9006",
   "metadata": {},
   "outputs": [
    {
     "data": {
      "text/plain": [
       "<function matplotlib.pyplot.show(close=None, block=None)>"
      ]
     },
     "execution_count": 42,
     "metadata": {},
     "output_type": "execute_result"
    },
    {
     "data": {
      "image/png": "[encoded data removed]",
      "text/plain": [
       "<Figure size 936x576 with 1 Axes>"
      ]
     },
     "metadata": {
      "needs_background": "light"
     },
     "output_type": "display_data"
    }
   ],
   "source": [
    "fig = plt.figure(figsize=(13, 8))\n",
    "tree.plot_tree(dt_clf_fin, max_depth = 2, fontsize = 12, class_names=['Negative', 'Positive'],\n",
    "               filled=True)\n",
    "\n",
    "plt.show"
   ]
  },
  {
   "cell_type": "code",
   "execution_count": 43,
   "id": "f56de427",
   "metadata": {},
   "outputs": [],
   "source": [
    "dt_clf_pred_fin = dt_clf_fin.predict(X_test)"
   ]
  },
  {
   "cell_type": "markdown",
   "id": "b5f9eb94",
   "metadata": {},
   "source": [
    "# 7. Формирование персонального учебного плана на основании прогноза академической задолженности"
   ]
  },
  {
   "cell_type": "code",
   "execution_count": 44,
   "id": "41cbbe04",
   "metadata": {},
   "outputs": [],
   "source": [
    "submission = test\n",
    "submission['DEBT'] = dt_clf_pred_fin"
   ]
  },
  {
   "cell_type": "code",
   "execution_count": 45,
   "id": "b08789c2",
   "metadata": {},
   "outputs": [
    {
     "data": {
      "text/html": [
       "<div>\n",
       "<style scoped>\n",
       "    .dataframe tbody tr th:only-of-type {\n",
       "        vertical-align: middle;\n",
       "    }\n",
       "\n",
       "    .dataframe tbody tr th {\n",
       "        vertical-align: top;\n",
       "    }\n",
       "\n",
       "    .dataframe thead th {\n",
       "        text-align: right;\n",
       "    }\n",
       "</style>\n",
       "<table border=\"1\" class=\"dataframe\">\n",
       "  <thead>\n",
       "    <tr style=\"text-align: right;\">\n",
       "      <th></th>\n",
       "      <th>ISU</th>\n",
       "      <th>DISC_ID</th>\n",
       "      <th>DEBT</th>\n",
       "    </tr>\n",
       "  </thead>\n",
       "  <tbody>\n",
       "    <tr>\n",
       "      <th>1663</th>\n",
       "      <td>18441846113897984349</td>\n",
       "      <td>16952231586163840107</td>\n",
       "      <td>1</td>\n",
       "    </tr>\n",
       "    <tr>\n",
       "      <th>1661</th>\n",
       "      <td>18392091485203933841</td>\n",
       "      <td>6118855749233779914</td>\n",
       "      <td>1</td>\n",
       "    </tr>\n",
       "    <tr>\n",
       "      <th>1662</th>\n",
       "      <td>18392091485203933841</td>\n",
       "      <td>6385862701358194760</td>\n",
       "      <td>1</td>\n",
       "    </tr>\n",
       "    <tr>\n",
       "      <th>1653</th>\n",
       "      <td>18389542006057914970</td>\n",
       "      <td>6063951793857738920</td>\n",
       "      <td>2</td>\n",
       "    </tr>\n",
       "    <tr>\n",
       "      <th>1651</th>\n",
       "      <td>18389542006057914970</td>\n",
       "      <td>1545040236251244132</td>\n",
       "      <td>1</td>\n",
       "    </tr>\n",
       "  </tbody>\n",
       "</table>\n",
       "</div>"
      ],
      "text/plain": [
       "                       ISU               DISC_ID  DEBT\n",
       "1663  18441846113897984349  16952231586163840107     1\n",
       "1661  18392091485203933841   6118855749233779914     1\n",
       "1662  18392091485203933841   6385862701358194760     1\n",
       "1653  18389542006057914970   6063951793857738920     2\n",
       "1651  18389542006057914970   1545040236251244132     1"
      ]
     },
     "execution_count": 45,
     "metadata": {},
     "output_type": "execute_result"
    }
   ],
   "source": [
    "isu_disc = submission.loc[submission['DEBT'] == 1]\\\n",
    "                         .groupby(['ISU', 'DISC_ID'], as_index = False)\\\n",
    "                         .agg({'DEBT': 'count'})\\\n",
    "                         .sort_values(['ISU', 'DEBT'], ascending = False)\n",
    "\n",
    "isu_disc.head()"
   ]
  },
  {
   "cell_type": "code",
   "execution_count": 46,
   "id": "bd2eeb94",
   "metadata": {},
   "outputs": [
    {
     "data": {
      "text/html": [
       "<div>\n",
       "<style scoped>\n",
       "    .dataframe tbody tr th:only-of-type {\n",
       "        vertical-align: middle;\n",
       "    }\n",
       "\n",
       "    .dataframe tbody tr th {\n",
       "        vertical-align: top;\n",
       "    }\n",
       "\n",
       "    .dataframe thead th {\n",
       "        text-align: right;\n",
       "    }\n",
       "</style>\n",
       "<table border=\"1\" class=\"dataframe\">\n",
       "  <thead>\n",
       "    <tr style=\"text-align: right;\">\n",
       "      <th></th>\n",
       "      <th>ISU</th>\n",
       "      <th>DEBT</th>\n",
       "    </tr>\n",
       "  </thead>\n",
       "  <tbody>\n",
       "    <tr>\n",
       "      <th>0</th>\n",
       "      <td>53555071483534306</td>\n",
       "      <td>1</td>\n",
       "    </tr>\n",
       "    <tr>\n",
       "      <th>1</th>\n",
       "      <td>248995915689497044</td>\n",
       "      <td>1</td>\n",
       "    </tr>\n",
       "    <tr>\n",
       "      <th>2</th>\n",
       "      <td>265090398491686393</td>\n",
       "      <td>1</td>\n",
       "    </tr>\n",
       "    <tr>\n",
       "      <th>3</th>\n",
       "      <td>300334882919748706</td>\n",
       "      <td>1</td>\n",
       "    </tr>\n",
       "    <tr>\n",
       "      <th>4</th>\n",
       "      <td>320742362175845527</td>\n",
       "      <td>1</td>\n",
       "    </tr>\n",
       "  </tbody>\n",
       "</table>\n",
       "</div>"
      ],
      "text/plain": [
       "                  ISU  DEBT\n",
       "0   53555071483534306     1\n",
       "1  248995915689497044     1\n",
       "2  265090398491686393     1\n",
       "3  300334882919748706     1\n",
       "4  320742362175845527     1"
      ]
     },
     "execution_count": 46,
     "metadata": {},
     "output_type": "execute_result"
    }
   ],
   "source": [
    "isu_debt = isu_disc.groupby('ISU', as_index = False).aggregate({'DEBT': 'max'})\n",
    "\n",
    "isu_debt.head()"
   ]
  },
  {
   "cell_type": "code",
   "execution_count": 47,
   "id": "a4a77f02",
   "metadata": {},
   "outputs": [
    {
     "data": {
      "text/html": [
       "<div>\n",
       "<style scoped>\n",
       "    .dataframe tbody tr th:only-of-type {\n",
       "        vertical-align: middle;\n",
       "    }\n",
       "\n",
       "    .dataframe tbody tr th {\n",
       "        vertical-align: top;\n",
       "    }\n",
       "\n",
       "    .dataframe thead th {\n",
       "        text-align: right;\n",
       "    }\n",
       "</style>\n",
       "<table border=\"1\" class=\"dataframe\">\n",
       "  <thead>\n",
       "    <tr style=\"text-align: right;\">\n",
       "      <th></th>\n",
       "      <th>ISU</th>\n",
       "      <th>DISC_GROUP</th>\n",
       "      <th>DEBT_MAX</th>\n",
       "    </tr>\n",
       "  </thead>\n",
       "  <tbody>\n",
       "    <tr>\n",
       "      <th>0</th>\n",
       "      <td>53555071483534306</td>\n",
       "      <td>17815511130490416136</td>\n",
       "      <td>1</td>\n",
       "    </tr>\n",
       "    <tr>\n",
       "      <th>1</th>\n",
       "      <td>248995915689497044</td>\n",
       "      <td>13626631834002853241</td>\n",
       "      <td>1</td>\n",
       "    </tr>\n",
       "    <tr>\n",
       "      <th>2</th>\n",
       "      <td>265090398491686393</td>\n",
       "      <td>5702509582319458883, 6118855749233779914, 6385...</td>\n",
       "      <td>1</td>\n",
       "    </tr>\n",
       "    <tr>\n",
       "      <th>3</th>\n",
       "      <td>300334882919748706</td>\n",
       "      <td>785531036609232153</td>\n",
       "      <td>1</td>\n",
       "    </tr>\n",
       "    <tr>\n",
       "      <th>4</th>\n",
       "      <td>320742362175845527</td>\n",
       "      <td>1891257564832756647, 6928483681678967284, 8955...</td>\n",
       "      <td>1</td>\n",
       "    </tr>\n",
       "    <tr>\n",
       "      <th>...</th>\n",
       "      <td>...</td>\n",
       "      <td>...</td>\n",
       "      <td>...</td>\n",
       "    </tr>\n",
       "    <tr>\n",
       "      <th>498</th>\n",
       "      <td>18201563138532617150</td>\n",
       "      <td>2516777473118160615</td>\n",
       "      <td>1</td>\n",
       "    </tr>\n",
       "    <tr>\n",
       "      <th>499</th>\n",
       "      <td>18341431081734743305</td>\n",
       "      <td>6170434637458736596, 7031937018125694667, 8955...</td>\n",
       "      <td>1</td>\n",
       "    </tr>\n",
       "    <tr>\n",
       "      <th>500</th>\n",
       "      <td>18389542006057914970</td>\n",
       "      <td>6063951793857738920</td>\n",
       "      <td>2</td>\n",
       "    </tr>\n",
       "    <tr>\n",
       "      <th>501</th>\n",
       "      <td>18392091485203933841</td>\n",
       "      <td>6118855749233779914, 6385862701358194760</td>\n",
       "      <td>1</td>\n",
       "    </tr>\n",
       "    <tr>\n",
       "      <th>502</th>\n",
       "      <td>18441846113897984349</td>\n",
       "      <td>16952231586163840107</td>\n",
       "      <td>1</td>\n",
       "    </tr>\n",
       "  </tbody>\n",
       "</table>\n",
       "<p>503 rows × 3 columns</p>\n",
       "</div>"
      ],
      "text/plain": [
       "                      ISU                                         DISC_GROUP  \\\n",
       "0       53555071483534306                               17815511130490416136   \n",
       "1      248995915689497044                               13626631834002853241   \n",
       "2      265090398491686393  5702509582319458883, 6118855749233779914, 6385...   \n",
       "3      300334882919748706                                 785531036609232153   \n",
       "4      320742362175845527  1891257564832756647, 6928483681678967284, 8955...   \n",
       "..                    ...                                                ...   \n",
       "498  18201563138532617150                                2516777473118160615   \n",
       "499  18341431081734743305  6170434637458736596, 7031937018125694667, 8955...   \n",
       "500  18389542006057914970                                6063951793857738920   \n",
       "501  18392091485203933841           6118855749233779914, 6385862701358194760   \n",
       "502  18441846113897984349                               16952231586163840107   \n",
       "\n",
       "     DEBT_MAX  \n",
       "0           1  \n",
       "1           1  \n",
       "2           1  \n",
       "3           1  \n",
       "4           1  \n",
       "..        ...  \n",
       "498         1  \n",
       "499         1  \n",
       "500         2  \n",
       "501         1  \n",
       "502         1  \n",
       "\n",
       "[503 rows x 3 columns]"
      ]
     },
     "execution_count": 47,
     "metadata": {},
     "output_type": "execute_result"
    }
   ],
   "source": [
    "isu_disc_group = isu_debt.merge(isu_disc)\n",
    "\n",
    "isu_disc_group.DISC_ID = isu_disc_group.DISC_ID.astype(str)\n",
    "isu_disc_group = isu_disc_group.groupby(['ISU']).DISC_ID.agg([', '.join]).reset_index()\\\n",
    "                               .rename (columns= {'join': 'DISC_GROUP'})\n",
    "\n",
    "isu_disc_group['DEBT_MAX'] = isu_debt['DEBT']\n",
    "\n",
    "isu_disc_group \n",
    "\n",
    "#ISU - id студента;\n",
    "#DISC_GROUP - список дисциплин для факультативных занятий, сформирован персонально для каждого студента"
   ]
  },
  {
   "cell_type": "markdown",
   "id": "adc132c6",
   "metadata": {},
   "source": [
    "# 8. Оформление решения"
   ]
  },
  {
   "cell_type": "code",
   "execution_count": 48,
   "id": "2191d2e1",
   "metadata": {},
   "outputs": [],
   "source": [
    "sample_submission = test"
   ]
  },
  {
   "cell_type": "code",
   "execution_count": 49,
   "id": "b116299c",
   "metadata": {},
   "outputs": [],
   "source": [
    "sample_submission['ID'] = sample_submission[['ISU', 'ST_YEAR', 'DISC_ID', 'SEMESTER', 'TYPE_NAME']]\\\n",
    ".apply(lambda x: f'ISU:{x[0]} | ST_YEAR:{x[1]} | DISC_ID:{x[2]} | SEMESTER:{x[3]} | TYPE_NAME:{x[4]}', axis =1)"
   ]
  },
  {
   "cell_type": "code",
   "execution_count": 50,
   "id": "1e994a26",
   "metadata": {},
   "outputs": [],
   "source": [
    "sample_submission['DEBT'] = dt_clf_pred_fin"
   ]
  },
  {
   "cell_type": "code",
   "execution_count": 51,
   "id": "26bd6aea",
   "metadata": {},
   "outputs": [],
   "source": [
    "sample_submission_2 = sample_submission[['ID', 'DEBT']]"
   ]
  },
  {
   "cell_type": "code",
   "execution_count": 52,
   "id": "4e921ab2",
   "metadata": {},
   "outputs": [],
   "source": [
    "sample_submission_2.to_csv('sample_submission.csv', index=False)"
   ]
  }
 ],
 "metadata": {
  "kernelspec": {
   "display_name": "Python 3 (ipykernel)",
   "language": "python",
   "name": "python3"
  },
  "language_info": {
   "codemirror_mode": {
    "name": "ipython",
    "version": 3
   },
   "file_extension": ".py",
   "mimetype": "text/x-python",
   "name": "python",
   "nbconvert_exporter": "python",
   "pygments_lexer": "ipython3",
   "version": "3.9.7"
  }
 },
 "nbformat": 4,
 "nbformat_minor": 5
}
